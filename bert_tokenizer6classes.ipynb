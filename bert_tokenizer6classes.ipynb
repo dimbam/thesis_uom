{
 "cells": [
  {
   "cell_type": "code",
   "execution_count": 1,
   "id": "a0a02db0",
   "metadata": {},
   "outputs": [
    {
     "name": "stdout",
     "output_type": "stream",
     "text": [
      "tensorflow version:  2.6.0\n",
      "\n",
      "Num GPUs Available:  1\n",
      "Gpus:  [PhysicalDevice(name='/physical_device:GPU:0', device_type='GPU')]\n"
     ]
    },
    {
     "name": "stderr",
     "output_type": "stream",
     "text": [
      "c:\\Users\\bamdi\\anaconda3\\envs\\tf_codebert\\lib\\site-packages\\tqdm\\auto.py:21: TqdmWarning: IProgress not found. Please update jupyter and ipywidgets. See https://ipywidgets.readthedocs.io/en/stable/user_install.html\n",
      "  from .autonotebook import tqdm as notebook_tqdm\n"
     ]
    }
   ],
   "source": [
    "import numpy as np\n",
    "import pandas as pd\n",
    "import os, json, time, sys, re, glob\n",
    "import requests\n",
    "import csv\n",
    "import io\n",
    "from pathlib import Path\n",
    "import matplotlib.pyplot as plt\n",
    "import random\n",
    "\n",
    "\n",
    "# Βιβλιοθήκες για ενεργοποίηση της κάρτας γραφικών\n",
    "# Πρέπει προηγουμένως να έχει γίνει εγκατάσταση του tensorflow και αν χρησιμοποιηθεί Gpu θα πρεπει να γίνει\n",
    "# εγκατάσταση της CUDA.\n",
    "import tensorflow\n",
    "print(\"tensorflow version: \",tensorflow.version.VERSION)\n",
    "print(\"\\nNum GPUs Available: \", len(tensorflow.config.experimental.list_physical_devices('GPU')))\n",
    "\n",
    "gpus = tensorflow.config.experimental.list_physical_devices('GPU')\n",
    "for gpu in gpus:\n",
    "    tensorflow.config.experimental.set_memory_growth(gpu, True)\n",
    "    logical_gpus = tensorflow.config.experimental.list_logical_devices('GPU')\n",
    "\n",
    "print(\"Gpus: \",gpus)\n",
    "\n",
    "# Εισαγωγή βιβλιοθκών για deep learning με χρήση του keras μεσω tensorflow\n",
    "from tensorflow.keras.models import Sequential\n",
    "from tensorflow.keras.layers import Dense, Activation, Dropout\n",
    "from tensorflow.keras import regularizers\n",
    "from tensorflow.keras import layers\n",
    "from tensorflow.keras.layers import LSTM, SimpleRNN, Bidirectional, TimeDistributed\n",
    "from tensorflow.keras.layers import GRU\n",
    "from tensorflow.keras.layers import Masking\n",
    "from tensorflow.keras.layers import Embedding, MaxPool1D\n",
    "from tensorflow.keras.callbacks import CSVLogger\n",
    "from tensorflow.keras.callbacks import EarlyStopping, ModelCheckpoint\n",
    "from tensorflow.keras.models import load_model\n",
    "from tensorflow.keras import optimizers\n",
    "from tensorflow.keras.constraints import max_norm\n",
    "from tensorflow.keras.layers import Bidirectional, BatchNormalization\n",
    "from tensorflow.keras.layers import LeakyReLU\n",
    "from tensorflow.keras.initializers import glorot_uniform, RandomUniform, lecun_uniform, Constant\n",
    "from tensorflow.keras.preprocessing.text import Tokenizer\n",
    "from tensorflow.keras.preprocessing.image import ImageDataGenerator\n",
    "from tensorflow.keras.preprocessing.sequence import pad_sequences\n",
    "from collections import OrderedDict\n",
    "from tensorflow.keras.wrappers.scikit_learn import KerasClassifier\n",
    "from sklearn.model_selection import GridSearchCV\n",
    "from tensorflow.keras.optimizers import Adam\n",
    "from sklearn.model_selection import KFold\n",
    "from transformers import TFBertModel\n",
    "from transformers import BertTokenizer\n",
    "from transformers import AutoTokenizer, AutoModelForSequenceClassification, TFAutoModelForSequenceClassification\n",
    "from tensorflow.keras.utils import to_categorical\n",
    "\n",
    "from tensorflow.keras.layers import Conv1D\n",
    "from tensorflow.keras.layers import MaxPooling1D, GlobalMaxPool1D\n",
    "\n",
    "# Εισαγωγή βιβλιοθηκών για χρήση word2vec\n",
    "# Πρέπει να έχει προηγθεί εγκατάσταση της βιβλιοθήκης gensim (pip install gensim)\n",
    "import gensim\n",
    "from gensim import downloader as api\n",
    "from gensim.models import Word2Vec#Loading the models/ embedding vector using KeyedVectors.load function from gensim\n",
    "from sklearn.manifold import TSNE\n"
   ]
  },
  {
   "cell_type": "code",
   "execution_count": 2,
   "id": "13514caf",
   "metadata": {},
   "outputs": [],
   "source": [
    "# define seeder\n",
    "seed = 123\n",
    "np.random.seed(seed)\n",
    "tensorflow.random.set_seed(seed) # χρήσιμη για όσο το δυνατόν πιο σταθερά αποτελέσματα σε κα΄θε επανάληψης της διαδικασίας εκπαίδευσης και εκτέλεσης του μοντέλου\n"
   ]
  },
  {
   "cell_type": "code",
   "execution_count": 3,
   "id": "a17bf32c",
   "metadata": {},
   "outputs": [
    {
     "name": "stdout",
     "output_type": "stream",
     "text": [
      "[0, 1, 0, 3, 0, 1, 4, 0, 2, 2, 2, 3, 2, 0, 4, 4, 3, 4, 4, 1, 5, 0, 2, 3, 2, 2, 2, 0, 3, 2, 1, 5, 5, 4, 2, 2, 0, 2, 0, 5, 0, 3, 4, 2, 1, 3, 2, 0, 5, 3, 1, 2, 4, 4, 0, 3, 0, 2, 1, 3, 3, 5, 4, 3, 4, 4, 5, 3, 3, 4, 3, 5, 2, 1, 1, 2, 3, 0, 1, 4, 5, 4, 2, 2, 1, 5, 0, 0, 4, 5, 1, 1, 4, 1, 1, 1, 3, 1, 2, 0, 3, 2, 0, 5, 0, 4, 3, 2, 3, 1, 4, 2, 5, 2, 1, 1, 2, 5, 2, 0, 0, 5, 0, 0, 2, 0, 5, 1, 0, 5, 5, 4, 0, 3, 1, 3, 4, 1, 4, 2, 1, 1, 1, 5, 0, 0, 2, 5, 0, 3, 2, 4, 3, 4, 2, 4, 4, 0, 5, 4, 3, 0, 4, 5, 5, 1, 2, 3, 0, 3, 4, 2, 1, 3, 3, 1, 2, 4, 3, 3, 2, 4, 1]\n",
      "183\n",
      "183\n"
     ]
    }
   ],
   "source": [
    "# shuffle the files from the beginning\n",
    "def readFiles(inputPath):\n",
    "    suffix1 = \".java\"\n",
    "    pathlist = []\n",
    "    \n",
    "    for root, dirs, files in os.walk(inputPath):\n",
    "        for file in files:\n",
    "            if (file.endswith(suffix1)):\n",
    "                root2 = Path(root)\n",
    "                pathlist.append(root2 / file)                 \n",
    "    return pathlist\n",
    "\n",
    "def createPathlist(inputlist, finallist):\n",
    "    for i in range(len(inputlist)):\n",
    "        finallist.append(inputlist[i])\n",
    "    return finallist\n",
    "\n",
    "labels = []\n",
    "paths = []\n",
    "\n",
    "\n",
    "inputPaths = [\n",
    "    os.getcwd() + \"\\Dataset\\JAVA_snippets\\Exceptions\",\n",
    "    os.getcwd() + \"\\Dataset\\JAVA_snippets\\File_Handling\",\n",
    "    os.getcwd() + \"\\Dataset\\JAVA_snippets\\GUI\",\n",
    "    os.getcwd() + \"\\Dataset\\JAVA_snippets\\JDBC\",\n",
    "    os.getcwd() + \"\\\\Dataset\\\\JAVA_snippets\\\\Unit_Testing\",\n",
    "    os.getcwd() + \"\\Dataset\\JAVA_snippets\\Others\"\n",
    "    \n",
    "]\n",
    "\n",
    "all_files_path = []\n",
    "for inputPath in inputPaths:\n",
    "    files_path = readFiles(inputPath)\n",
    "    all_files_path.extend(files_path)\n",
    "# shuffle the paths\n",
    "random.shuffle(all_files_path)\n",
    "\n",
    "\n",
    "for path in all_files_path: \n",
    "    if 'Exceptions' in str(path):\n",
    "        labels.append(0)\n",
    "    if 'File_Handling' in str(path):\n",
    "        labels.append(1)\n",
    "    if 'GUI' in str(path):\n",
    "        labels.append(2)\n",
    "    if 'JDBC' in str(path):\n",
    "        labels.append(3)\n",
    "    if 'Unit_Testing' in str(path):\n",
    "        labels.append(4)\n",
    "    if 'Others' in str(path):\n",
    "        labels.append(5)\n",
    "\n",
    "print(labels)\n",
    "print(len(all_files_path))\n",
    "print(len(labels))"
   ]
  },
  {
   "cell_type": "code",
   "execution_count": 4,
   "id": "6f08e129",
   "metadata": {},
   "outputs": [],
   "source": [
    "# Συναρτήσεις χρήσιμες για custom tokenization του πηγαίου κώδικα\n",
    "def listToString(s): \n",
    "    \n",
    "    # initialize an empty string\n",
    "    str1 = \"\" \n",
    "    \n",
    "    # traverse in the string  \n",
    "    for ele in s: \n",
    "        str1 += ele  \n",
    "    \n",
    "    # return string  \n",
    "    return str1 \n",
    "\n",
    "def stringToList(string):\n",
    "    codeLinesList = []\n",
    "    for line in string.splitlines():\n",
    "        codeLinesList.append(line)\n",
    "    return codeLinesList\n",
    "\n",
    "def createListOfTokens(codeFilename):\n",
    "    \"\"\"\n",
    "    Given a file name in the current working directory, read each line \n",
    "    and append it to a list.\n",
    "    Return: the contents of the file as a list of strings\n",
    "    \"\"\"\n",
    "    codeLinesList = []\n",
    "\n",
    "    #with open(codeFilename, \"r\", encoding='utf-8', errors='ignore') as fin:\n",
    "    #with open(path, 'rb') as f:\n",
    "    with open(codeFilename, \"r\", encoding='utf-8', errors='ignore') as fin:\n",
    "        for line in fin:\n",
    "            codeLinesList.append(line)\n",
    "\n",
    "    return codeLinesList"
   ]
  },
  {
   "cell_type": "code",
   "execution_count": 5,
   "id": "c1d22efb",
   "metadata": {},
   "outputs": [],
   "source": [
    "# Συνάρτησ για αφαίρεση των σχολίων\n",
    "def remove_comments(content, language):\n",
    "    if language == \"cpp\":\n",
    "        def gen_content():\n",
    "            block_comment = False\n",
    "            line_comment = False\n",
    "            probably_a_comment = False\n",
    "            for character in content:\n",
    "                if not line_comment and not block_comment and character == '/':\n",
    "                    probably_a_comment = True\n",
    "                    continue\n",
    "    \n",
    "                if block_comment and character == '*':\n",
    "                    probably_a_comment = True\n",
    "                    continue\n",
    "    \n",
    "                if line_comment and character == '\\n':\n",
    "                    line_comment = False\n",
    "                    yield '\\n'\n",
    "                elif block_comment and probably_a_comment and character == '/':\n",
    "                    block_comment = False\n",
    "                elif not line_comment and not block_comment:\n",
    "                    if probably_a_comment:\n",
    "                        if character == '/':\n",
    "                            line_comment = True\n",
    "                        elif character == '*':\n",
    "                            block_comment = True\n",
    "                        else:\n",
    "                            yield '/'\n",
    "                            yield character\n",
    "                    else:\n",
    "                        yield character\n",
    "                probably_a_comment = False\n",
    "    \n",
    "        return ''.join(gen_content())\n",
    "    \n",
    "    elif language == \"java\" or language == \"javascript\":\n",
    "        commentsPattern = re.compile(\"(//.*?$)|(/\\\\*.*?\\\\*/)\", flags=re.MULTILINE|re.DOTALL )\n",
    "        stringsPattern = re.compile(\"(\\\".*?(?<!\\\\\\\\)\\\")\")\n",
    "             \n",
    "        commentMatches = [ ]\n",
    "        commentsToRemove = [ ]\n",
    "         \n",
    "        cmatcher = re.finditer( commentsPattern, content )\n",
    "        smatcher = re.finditer( stringsPattern, content )\n",
    "         \n",
    "        for cm in cmatcher:\n",
    "            commentMatches.append( cm )\n",
    "            \n",
    "        for sm in smatcher:\n",
    "            for cm in commentMatches:\n",
    "                if cm.start() > sm.start() and cm.start()<sm.end():\n",
    "                    commentsToRemove.append( cm )\n",
    "         \n",
    "        for cm in commentsToRemove:\n",
    "            commentMatches.remove( cm )\n",
    "         \n",
    "        for cm in commentMatches:\n",
    "            content = content.replace( cm.group(),\" \" )\n",
    "        \n",
    "        return content\n",
    "    \n",
    "#remove headers/import statements\n",
    "\n",
    "def dropBlank(tokens0):\n",
    "    tokens = []\n",
    "    for i in range(0, len(tokens0)):\n",
    "        temp = tokens0[i]\n",
    "        if temp != '':\n",
    "            tokens.append(temp)\n",
    "    return tokens\n",
    "\n",
    "def tokenizeLines(codeLinesList):\n",
    "    \"\"\"\n",
    "    Tokenize each file line, i.e. entry of code list, based on a specified\n",
    "    regex.\n",
    "    ***The regex used is not applicable to every case. One needs to configure\n",
    "    it based on file inputs.\n",
    "\n",
    "    Return: list containing code tokens\n",
    "    \"\"\"\n",
    "    #enalaktika codeLinesList.split() gia na meinoun ta tokens mazi me to punctuation\n",
    "    codeTokens = []\n",
    "\n",
    "    for line in codeLinesList:\n",
    "        templineTokens = re.split('[\\.,\\[\\];:(\\s)?\\\\\\\\!\\t{}\"<>+=~*&^%/|\\\\-\\']', line)\n",
    "        codeTokens.extend(templineTokens)\n",
    "    return codeTokens\n",
    "\n",
    "def getLengths(data):\n",
    "    lens = []\n",
    "    for i in range(len(data)):\n",
    "        lens.append(len(data[i]))\n",
    "    lens = pd.DataFrame(lens)\n",
    "    return lens"
   ]
  },
  {
   "cell_type": "code",
   "execution_count": 6,
   "id": "fb85d735",
   "metadata": {},
   "outputs": [
    {
     "name": "stdout",
     "output_type": "stream",
     "text": [
      "[0, 1, 0, 3, 0, 1, 4, 0, 2, 2, 2, 3, 2, 0, 4, 4, 3, 4, 4, 1, 5, 0, 2, 3, 2, 2, 2, 0, 3, 2, 1, 5, 5, 4, 2, 2, 0, 2, 0, 5, 0, 3, 4, 2, 1, 3, 2, 0, 5, 3, 1, 2, 4, 4, 0, 3, 0, 2, 1, 3, 3, 5, 4, 3, 4, 4, 5, 3, 3, 4, 3, 5, 2, 1, 1, 2, 3, 0, 1, 4, 5, 4, 2, 2, 1, 5, 0, 0, 4, 5, 1, 1, 4, 1, 1, 1, 3, 1, 2, 0, 3, 2, 0, 5, 0, 4, 3, 2, 3, 1, 4, 2, 5, 2, 1, 1, 2, 5, 2, 0, 0, 5, 0, 0, 2, 0, 5, 1, 0, 5, 5, 4, 0, 3, 1, 3, 4, 1, 4, 2, 1, 1, 1, 5, 0, 0, 2, 5, 0, 3, 2, 4, 3, 4, 2, 4, 4, 0, 5, 4, 3, 0, 4, 5, 5, 1, 2, 3, 0, 3, 4, 2, 1, 3, 3, 1, 2, 4, 3, 3, 2, 4, 1]\n"
     ]
    }
   ],
   "source": [
    "# Για κάθε αρχείο δημιουργούμε tokens, αντικαθιστούμε numbers, String και chars με συγκεκριμένα Ids και έπειτα \n",
    "# δημιουργούμε μία λίστα από λίστες που περιέχουν: (1) όνομα αρχείου (2) class label (3) τις ακολουθίες tokens (λέξεων)\n",
    "def fill_labels(paths, labels):\n",
    "    allTokens = []\n",
    "    indices = []\n",
    "    for i in range(0, len(paths)):\n",
    "        path = paths[i]\n",
    "        label = labels[i]      \n",
    "        \n",
    "        #add the label info\n",
    "        if (label == 0):\n",
    "            indices.append(0)\n",
    "        elif (label == 1):\n",
    "            indices.append(1)\n",
    "        elif (label == 2):\n",
    "            indices.append(2)\n",
    "        elif (label == 3):\n",
    "            indices.append(3)\n",
    "        elif (label == 4):\n",
    "            indices.append(4)\n",
    "        elif (label == 5):\n",
    "            indices.append(5)\n",
    "        \n",
    "    return indices\n",
    "\n",
    "indices = fill_labels(all_files_path, labels)\n",
    "print(indices)\n"
   ]
  },
  {
   "cell_type": "code",
   "execution_count": 7,
   "id": "b706942e",
   "metadata": {},
   "outputs": [
    {
     "name": "stdout",
     "output_type": "stream",
     "text": [
      "\n",
      "class FourException extends Exception {}\n",
      "\n",
      "public class AlwaysFinally {\n",
      "  public static void main(String[] args) {\n",
      "    System.out.println(<strId$>);\n",
      "    try {\n",
      "      System.out.println(<strId$>);\n",
      "      try {\n",
      "        throw new FourException();\n",
      "      } finally {\n",
      "        System.out.println(<strId$>);\n",
      "      }\n",
      "    } catch(FourException e) {\n",
      "      System.out.println(\n",
      "        <strId$>);\n",
      "    } finally {\n",
      "      System.out.println(<strId$>);\n",
      "    }\n",
      "  }\n",
      "}\n",
      "\n",
      "183\n"
     ]
    }
   ],
   "source": [
    "def fill_text_list(paths, labels):\n",
    "    allTokens = []\n",
    "    indices = []\n",
    "    text = []\n",
    "    for i in range(0, len(paths)):\n",
    "        path = paths[i]\n",
    "        label = labels[i]\n",
    "        \n",
    "        #tokenize source code in a list of lines\n",
    "        lines0 = createListOfTokens(path)\n",
    "        \n",
    "        #convert source code from list of lines to string\n",
    "        stringLines = listToString(lines0)\n",
    "        \n",
    "        stringLinesNoDigit = re.sub(r\"$\\d+\\W+|\\b\\d+\\b|\\W+\\d+$\", \"<numId$>\", stringLines) #replace numbers \n",
    "        \n",
    "        stringLinesNoStr = re.sub(r'([\"])(?:(?=(\\\\?))\\2.)*?\\1', \"<strId$>\", stringLinesNoDigit) #replace strings\n",
    "        \n",
    "        stringLinesNoChar = re.sub(r\"(['])(?:(?=(\\\\?))\\2.)*?\\1\", \"<strId$>\", stringLinesNoStr) #replace chars\n",
    "        \n",
    "        #remove comments from source code if wanted \n",
    "        if label < 7:\n",
    "            lang = \"java\"       \n",
    "        linesNoCom = remove_comments(stringLinesNoChar, lang)\n",
    "        \n",
    "        \n",
    "        \n",
    "        \n",
    "        text.append(linesNoCom)\n",
    "    return text\n",
    "\n",
    "alltext = fill_text_list(all_files_path, labels)\n",
    "\n",
    "# print(alltext[0])"
   ]
  },
  {
   "cell_type": "code",
   "execution_count": 8,
   "id": "cdb0a8bf",
   "metadata": {},
   "outputs": [
    {
     "name": "stdout",
     "output_type": "stream",
     "text": [
      "183\n"
     ]
    }
   ],
   "source": [
    "tokenizer = AutoTokenizer.from_pretrained(\"microsoft/codebert-base\")\n",
    "inputs = tokenizer(alltext, padding=True, truncation=True, return_tensors='tf') \n",
    "dataset=tensorflow.data.Dataset.from_tensor_slices((dict(inputs), indices)) \n",
    "\n",
    "AUTOTUNE = tensorflow.data.experimental.AUTOTUNE\n",
    "\n",
    "#shuffled_ds = dataset.shuffle(buffer_size=len(paths)).batch(1)\n",
    "#print(inputs)\n",
    "#encoded_sequences = tokenizer(sequences, padding=True, truncation=True, return_tensors='tf')"
   ]
  },
  {
   "cell_type": "code",
   "execution_count": 9,
   "id": "4ff3dd2d",
   "metadata": {},
   "outputs": [
    {
     "name": "stdout",
     "output_type": "stream",
     "text": [
      "4\n",
      "4\n",
      "0\n",
      "3\n",
      "3\n",
      "5\n",
      "5\n",
      "3\n",
      "2\n",
      "0\n",
      "3\n",
      "3\n",
      "3\n",
      "5\n",
      "5\n",
      "0\n",
      "5\n",
      "0\n",
      "0\n",
      "1\n",
      "4\n",
      "4\n",
      "0\n",
      "1\n",
      "2\n",
      "0\n",
      "5\n",
      "2\n",
      "0\n",
      "2\n",
      "1\n",
      "0\n",
      "3\n",
      "0\n",
      "4\n",
      "4\n",
      "5\n",
      "4\n",
      "4\n",
      "5\n",
      "5\n",
      "5\n",
      "3\n",
      "0\n",
      "5\n",
      "1\n",
      "2\n",
      "0\n",
      "3\n",
      "2\n",
      "1\n",
      "0\n",
      "4\n",
      "3\n",
      "0\n",
      "1\n",
      "2\n",
      "1\n",
      "3\n",
      "2\n",
      "4\n",
      "3\n",
      "5\n",
      "0\n",
      "1\n",
      "2\n",
      "2\n",
      "0\n",
      "0\n",
      "4\n",
      "2\n",
      "4\n",
      "4\n",
      "2\n",
      "1\n",
      "4\n",
      "1\n",
      "4\n",
      "1\n",
      "5\n",
      "4\n",
      "1\n",
      "2\n",
      "5\n",
      "3\n",
      "5\n",
      "0\n",
      "2\n",
      "4\n",
      "4\n",
      "2\n",
      "2\n",
      "0\n",
      "1\n",
      "3\n",
      "3\n",
      "2\n",
      "3\n",
      "2\n",
      "4\n",
      "4\n",
      "3\n",
      "3\n",
      "2\n",
      "0\n",
      "3\n",
      "1\n",
      "3\n",
      "4\n",
      "2\n",
      "1\n",
      "2\n",
      "1\n",
      "3\n",
      "4\n",
      "2\n",
      "3\n",
      "3\n",
      "2\n",
      "1\n",
      "0\n",
      "2\n",
      "1\n",
      "4\n",
      "0\n",
      "4\n",
      "2\n",
      "2\n",
      "1\n",
      "2\n",
      "2\n",
      "5\n",
      "4\n",
      "1\n",
      "3\n",
      "3\n",
      "3\n",
      "2\n",
      "0\n",
      "1\n",
      "2\n",
      "2\n",
      "4\n",
      "1\n",
      "3\n",
      "0\n",
      "1\n",
      "4\n",
      "0\n",
      "0\n",
      "0\n",
      "0\n",
      "1\n",
      "4\n",
      "5\n",
      "0\n",
      "3\n",
      "2\n",
      "2\n",
      "1\n",
      "5\n",
      "5\n",
      "2\n",
      "5\n",
      "1\n",
      "1\n",
      "2\n",
      "4\n",
      "1\n",
      "4\n",
      "3\n",
      "0\n",
      "5\n",
      "4\n",
      "3\n",
      "1\n",
      "5\n",
      "0\n",
      "1\n",
      "0\n",
      "2\n",
      "3\n",
      "5\n"
     ]
    }
   ],
   "source": [
    "for element in dataset.as_numpy_iterator():\n",
    "    print(element[1])"
   ]
  },
  {
   "cell_type": "code",
   "execution_count": 10,
   "id": "2f1dc65c",
   "metadata": {},
   "outputs": [],
   "source": [
    "# Split the dataset into train, validation, and test sets\n",
    "train_size = int(0.7 * len(all_files_path))\n",
    "val_size = int(0.3 * len(all_files_path))\n",
    "test_size = len(all_files_path) - train_size - val_size\n",
    "\n",
    "AUTOTUNE = tensorflow.data.experimental.AUTOTUNE\n",
    "batch_size = 1\n",
    "val_ds=dataset.take(val_size).batch(batch_size, drop_remainder=True) \n",
    "train_ds=dataset.skip(val_size).batch(batch_size, drop_remainder=True)\n",
    "train_ds = train_ds.prefetch(buffer_size=AUTOTUNE)\n",
    "test_ds = dataset.take(test_size).batch(batch_size, drop_remainder=True)"
   ]
  },
  {
   "cell_type": "code",
   "execution_count": 11,
   "id": "7c9bdb1f",
   "metadata": {},
   "outputs": [
    {
     "name": "stdout",
     "output_type": "stream",
     "text": [
      "[4]\n",
      "[4]\n",
      "[0]\n",
      "[3]\n",
      "[3]\n",
      "[5]\n",
      "[5]\n",
      "[3]\n",
      "[2]\n",
      "[0]\n",
      "[3]\n",
      "[3]\n",
      "[3]\n",
      "[5]\n",
      "[5]\n",
      "[0]\n",
      "[5]\n",
      "[0]\n",
      "[0]\n",
      "[1]\n",
      "[4]\n",
      "[4]\n",
      "[0]\n",
      "[1]\n",
      "[2]\n",
      "[0]\n",
      "[5]\n",
      "[2]\n",
      "[0]\n",
      "[2]\n",
      "[1]\n",
      "[0]\n",
      "[3]\n",
      "[0]\n",
      "[4]\n",
      "[4]\n",
      "[5]\n",
      "[4]\n",
      "[4]\n",
      "[5]\n",
      "[5]\n",
      "[5]\n",
      "[3]\n",
      "[0]\n",
      "[5]\n",
      "[1]\n",
      "[2]\n",
      "[0]\n",
      "[3]\n",
      "[2]\n",
      "[1]\n",
      "[0]\n",
      "[4]\n",
      "[3]\n"
     ]
    },
    {
     "data": {
      "text/plain": [
       "54"
      ]
     },
     "execution_count": 11,
     "metadata": {},
     "output_type": "execute_result"
    }
   ],
   "source": [
    "# από εδώ παίρνω τα labels του σετ που θέλω\n",
    "val_indices = []\n",
    "for element in val_ds.as_numpy_iterator():\n",
    "    print(element[1])\n",
    "    val_indices.append((element[1]))\n",
    "val_indices\n",
    "len(val_indices)\n"
   ]
  },
  {
   "cell_type": "code",
   "execution_count": 13,
   "id": "36518f65",
   "metadata": {},
   "outputs": [
    {
     "name": "stderr",
     "output_type": "stream",
     "text": [
      "All model checkpoint layers were used when initializing TFRobertaForSequenceClassification.\n",
      "\n",
      "Some layers of TFRobertaForSequenceClassification were not initialized from the model checkpoint at microsoft/codebert-base and are newly initialized: ['classifier']\n",
      "You should probably TRAIN this model on a down-stream task to be able to use it for predictions and inference.\n"
     ]
    },
    {
     "name": "stdout",
     "output_type": "stream",
     "text": [
      "Epoch 1/3\n",
      "129/129 [==============================] - 55s 323ms/step - loss: 1.7276 - sparse_categorical_accuracy: 0.2403 - Top_2_Categorical_Accuracy: 0.4574 - val_loss: 1.6516 - val_sparse_categorical_accuracy: 0.2778 - val_Top_2_Categorical_Accuracy: 0.4444\n",
      "Epoch 2/3\n",
      "129/129 [==============================] - 37s 287ms/step - loss: 1.2773 - sparse_categorical_accuracy: 0.5814 - Top_2_Categorical_Accuracy: 0.7364 - val_loss: 1.2700 - val_sparse_categorical_accuracy: 0.5741 - val_Top_2_Categorical_Accuracy: 0.7407\n",
      "Epoch 3/3\n",
      "129/129 [==============================] - 37s 287ms/step - loss: 0.6652 - sparse_categorical_accuracy: 0.8372 - Top_2_Categorical_Accuracy: 0.9457 - val_loss: 0.7601 - val_sparse_categorical_accuracy: 0.7593 - val_Top_2_Categorical_Accuracy: 0.8889\n"
     ]
    }
   ],
   "source": [
    "# Define and compile the model\n",
    "\n",
    "model = TFAutoModelForSequenceClassification.from_pretrained(\"microsoft/codebert-base\", num_labels=6)\n",
    "model.compile(\n",
    "    optimizer=tensorflow.keras.optimizers.Adam(learning_rate=1e-5, clipnorm=1.),\n",
    "    loss=tensorflow.keras.losses.SparseCategoricalCrossentropy(from_logits=True),\n",
    "    metrics=[tensorflow.keras.metrics.SparseCategoricalAccuracy(), \n",
    "             tensorflow.keras.metrics.SparseTopKCategoricalAccuracy(k=2, name='Top_2_Categorical_Accuracy')]\n",
    ")\n",
    "\n",
    "history = model.fit(train_ds, validation_data=val_ds, epochs=3, verbose=1)"
   ]
  },
  {
   "cell_type": "code",
   "execution_count": 14,
   "id": "8c105982",
   "metadata": {},
   "outputs": [],
   "source": [
    "model.save_weights('./saved_weights.h5')"
   ]
  },
  {
   "cell_type": "code",
   "execution_count": 15,
   "id": "80c726fc",
   "metadata": {},
   "outputs": [
    {
     "name": "stdout",
     "output_type": "stream",
     "text": [
      "1/1 [==============================] - 0s 231ms/step - loss: 1.9837 - sparse_categorical_accuracy: 0.0000e+00 - Top_2_Categorical_Accuracy: 0.0000e+00\n"
     ]
    },
    {
     "data": {
      "text/plain": [
       "[1.9837112426757812, 0.0, 0.0]"
      ]
     },
     "execution_count": 15,
     "metadata": {},
     "output_type": "execute_result"
    }
   ],
   "source": [
    "test_ds = dataset.take(test_size).batch(batch_size, drop_remainder=True)\n",
    "model.evaluate(test_ds)"
   ]
  },
  {
   "cell_type": "code",
   "execution_count": 16,
   "id": "94895d5f",
   "metadata": {},
   "outputs": [
    {
     "name": "stdout",
     "output_type": "stream",
     "text": [
      "54/54 [==============================] - 4s 58ms/step\n"
     ]
    }
   ],
   "source": [
    "logits=model.predict(val_ds, verbose=1).logits\n",
    "prob=tensorflow.nn.softmax(logits, axis=1).numpy()\n",
    "predictions=np.argmax(prob, axis=1)\n",
    "\n",
    "#confusion_matrix=tensorflow.math.confusion_matrix(val_indices, predictions, num_classes=6)"
   ]
  },
  {
   "cell_type": "code",
   "execution_count": 17,
   "id": "2e35d92f",
   "metadata": {},
   "outputs": [
    {
     "name": "stdout",
     "output_type": "stream",
     "text": [
      "Precision:0.8747456247456248, Recall:0.7592592592592593, F1 score:0.7408032188733942.\n"
     ]
    }
   ],
   "source": [
    "import sklearn.metrics as metrics\n",
    "precision=metrics.precision_score(val_indices, predictions, average='weighted')\n",
    "recall=metrics.recall_score(val_indices, predictions, average='weighted')\n",
    "f1=metrics.f1_score(val_indices, predictions, average='weighted')\n",
    "print('Precision:{}, Recall:{}, F1 score:{}.'.format(precision, recall, f1))"
   ]
  },
  {
   "cell_type": "code",
   "execution_count": 18,
   "id": "04ee34e5",
   "metadata": {},
   "outputs": [
    {
     "data": {
      "text/plain": [
       "array([0, 5, 4, 5, 2, 2, 4, 3, 0, 3, 0, 2, 1, 5, 2, 1, 5, 0, 1, 3, 5, 4,\n",
       "       2, 1, 2, 2, 1, 3, 3, 4, 4, 0, 2, 3, 4, 2, 1, 0, 4, 5, 3, 4, 1, 3,\n",
       "       0, 1, 3, 4, 2, 2, 1, 3, 5, 0], dtype=int64)"
      ]
     },
     "execution_count": 18,
     "metadata": {},
     "output_type": "execute_result"
    }
   ],
   "source": [
    "predictions"
   ]
  },
  {
   "cell_type": "code",
   "execution_count": 18,
   "id": "2b88fb99",
   "metadata": {},
   "outputs": [
    {
     "name": "stdout",
     "output_type": "stream",
     "text": [
      "Confusion Matrix:\n",
      "[[ 3  9  0  0  0  1]\n",
      " [ 0  5  0  0  0  0]\n",
      " [ 0  0  6  0  0  0]\n",
      " [ 0  0  1  9  0  0]\n",
      " [ 0  0  0  1  7  1]\n",
      " [ 0  0  0  0  0 11]]\n",
      "\n",
      "Matrix:\n",
      "True Positives: [ 3  5  6  9  7 11]\n",
      "False Positives: [0 9 1 1 0 2]\n",
      "False Negatives: [10  0  0  1  2  0]\n",
      "True Negatives: [41 40 47 43 45 41]\n"
     ]
    }
   ],
   "source": [
    "import numpy as np\n",
    "from sklearn.metrics import confusion_matrix\n",
    "\n",
    "# Create the confusion matrix\n",
    "cm = confusion_matrix(val_indices, predictions)\n",
    "\n",
    "# Extract values from the confusion matrix\n",
    "true_positives = np.diag(cm)\n",
    "false_positives = np.sum(cm, axis=0) - true_positives\n",
    "false_negatives = np.sum(cm, axis=1) - true_positives\n",
    "true_negatives = np.sum(cm) - (true_positives + false_positives + false_negatives)\n",
    "\n",
    "# Print the confusion matrix\n",
    "print(\"Confusion Matrix:\")\n",
    "print(cm)\n",
    "\n",
    "# Print the matrix with true positives, false positives, false negatives, and true negatives\n",
    "print(\"\\nMatrix:\")\n",
    "print(\"True Positives:\", true_positives)\n",
    "print(\"False Positives:\", false_positives)\n",
    "print(\"False Negatives:\", false_negatives)\n",
    "print(\"True Negatives:\", true_negatives)"
   ]
  },
  {
   "cell_type": "code",
   "execution_count": 19,
   "id": "ae8f2b6b",
   "metadata": {},
   "outputs": [
    {
     "data": {
      "image/png": "[encoded data removed]",
      "text/plain": [
       "<Figure size 640x480 with 2 Axes>"
      ]
     },
     "metadata": {},
     "output_type": "display_data"
    }
   ],
   "source": [
    "import numpy as np\n",
    "from sklearn.metrics import confusion_matrix\n",
    "import seaborn as sn\n",
    "import matplotlib.pyplot as plt\n",
    "\n",
    "# Create the confusion matrix\n",
    "cm = confusion_matrix(val_indices, predictions)\n",
    "\n",
    "# Set labels for the x-axis and y-axis\n",
    "labels = ['Exceptions', 'File_Handling', 'GUI', 'JDBC', 'Unit_Testing', 'Others']\n",
    "\n",
    "# Plot the confusion matrix using seaborn\n",
    "sn.heatmap(cm, annot=True, fmt='d', cmap='Blues', xticklabels=labels, yticklabels=labels)\n",
    "\n",
    "# Set the title, x-axis label, and y-axis label\n",
    "plt.title('Confusion Matrix')\n",
    "plt.xlabel('Predicted Values')\n",
    "plt.ylabel('Actual Values')\n",
    "\n",
    "# Display the plot\n",
    "plt.show()"
   ]
  },
  {
   "cell_type": "code",
   "execution_count": 20,
   "id": "d682b08b",
   "metadata": {},
   "outputs": [
    {
     "data": {
      "text/plain": [
       "[5, 5, 5, 4, 2, 5]"
      ]
     },
     "execution_count": 20,
     "metadata": {},
     "output_type": "execute_result"
    }
   ],
   "source": [
    "shpred = predictions\n",
    "random.shuffle(shpred)\n",
    "list = [shpred[0], shpred[1], shpred[2], shpred[3], shpred[4], shpred[5]]\n",
    "list"
   ]
  },
  {
   "cell_type": "code",
   "execution_count": 21,
   "id": "a6602692",
   "metadata": {},
   "outputs": [
    {
     "name": "stdout",
     "output_type": "stream",
     "text": [
      "1/1 [==============================] - 2s 2s/step - loss: 0.5589 - sparse_categorical_accuracy: 1.0000 - Top_2_Categorical_Accuracy: 1.0000\n"
     ]
    }
   ],
   "source": [
    "# Evaluate the model on the test set\n",
    "test_ds = dataset.skip(train_size + val_size).batch(batch_size)\n",
    "results = model.evaluate(test_ds)"
   ]
  },
  {
   "cell_type": "code",
   "execution_count": 22,
   "id": "a501b2d7",
   "metadata": {},
   "outputs": [
    {
     "data": {
      "image/png": "[encoded data removed]",
      "text/plain": [
       "<Figure size 640x480 with 1 Axes>"
      ]
     },
     "metadata": {},
     "output_type": "display_data"
    }
   ],
   "source": [
    "import matplotlib.pyplot as plt\n",
    "\n",
    "# Assuming you have trained the model and stored the training history in `history` variable\n",
    "\n",
    "# Get the training loss values\n",
    "train_loss = history.history['loss']\n",
    "\n",
    "# Get the validation loss values\n",
    "val_loss = history.history['val_loss']\n",
    "\n",
    "# Plot the training and validation loss\n",
    "epochs = range(1, len(train_loss) + 1)\n",
    "plt.plot(epochs, train_loss, 'g', label='Training Loss')\n",
    "plt.plot(epochs, val_loss, 'b', label='Validation Loss')\n",
    "plt.title('Model Loss')\n",
    "plt.xlabel('Epochs')\n",
    "plt.ylabel('Loss')\n",
    "plt.legend()\n",
    "plt.show()"
   ]
  },
  {
   "cell_type": "code",
   "execution_count": 22,
   "id": "3400554a",
   "metadata": {},
   "outputs": [
    {
     "name": "stdout",
     "output_type": "stream",
     "text": [
      "Model: \"tf_roberta_for_sequence_classification\"\n",
      "_________________________________________________________________\n",
      "Layer (type)                 Output Shape              Param #   \n",
      "=================================================================\n",
      "roberta (TFRobertaMainLayer) multiple                  124055040 \n",
      "_________________________________________________________________\n",
      "classifier (TFRobertaClassif multiple                  595206    \n",
      "=================================================================\n",
      "Total params: 124,650,246\n",
      "Trainable params: 124,650,246\n",
      "Non-trainable params: 0\n",
      "_________________________________________________________________\n"
     ]
    },
    {
     "data": {
      "image/png": "[encoded data removed]",
      "text/plain": [
       "<Figure size 640x480 with 1 Axes>"
      ]
     },
     "metadata": {},
     "output_type": "display_data"
    }
   ],
   "source": [
    "model.summary()\n",
    "\n",
    "plt.plot(history.history['loss'])\n",
    "plt.plot(history.history['val_loss'])\n",
    "plt.ylabel('model loss')\n",
    "plt.xlabel('epoch')\n",
    "plt.legend(['train', 'test'], loc='best')\n",
    "plt.savefig('train_history.png')\n",
    "plt.show()"
   ]
  }
 ],
 "metadata": {
  "kernelspec": {
   "display_name": "Python 3 (ipykernel)",
   "language": "python",
   "name": "python3"
  },
  "language_info": {
   "codemirror_mode": {
    "name": "ipython",
    "version": 3
   },
   "file_extension": ".py",
   "mimetype": "text/x-python",
   "name": "python",
   "nbconvert_exporter": "python",
   "pygments_lexer": "ipython3",
   "version": "3.9.13"
  }
 },
 "nbformat": 4,
 "nbformat_minor": 5
}
